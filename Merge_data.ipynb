{
 "cells": [
  {
   "cell_type": "code",
   "execution_count": 1,
   "id": "e71864e1",
   "metadata": {},
   "outputs": [],
   "source": [
    "import pandas as pd"
   ]
  },
  {
   "cell_type": "code",
   "execution_count": 7,
   "id": "73cc08cf",
   "metadata": {},
   "outputs": [],
   "source": [
    "# Load the Excel file and drop the last column (normalized expression)\n",
    "kmer_expression_df = pd.read_csv(\"kmer_expression_combined.csv\")\n",
    "kmer_expression_df = kmer_expression_df.iloc[:, :-1]"
   ]
  },
  {
   "cell_type": "code",
   "execution_count": 17,
   "id": "b57c2fec",
   "metadata": {},
   "outputs": [],
   "source": [
    "# Load the CSV file\n",
    "motif_counts_df = pd.read_csv(\"motif-counts-25K-dream-with-unnormalized-expression-1e4.csv\")\n",
    "motif_counts_df.columns.values[0] = 'sample'"
   ]
  },
  {
   "cell_type": "code",
   "execution_count": null,
   "id": "7fc376b6",
   "metadata": {},
   "outputs": [],
   "source": [
    "# Merge the two DataFrames on the 'kmer' column\n",
    "merged_df = pd.merge(kmer_expression_df, motif_counts_df, on='sample', how='inner')"
   ]
  },
  {
   "cell_type": "code",
   "execution_count": 22,
   "id": "93e7c25a",
   "metadata": {},
   "outputs": [],
   "source": [
    "# remove the first column (sample)\n",
    "merged_df = merged_df.iloc[:, 1:]"
   ]
  },
  {
   "cell_type": "code",
   "execution_count": 24,
   "id": "c40fbc87",
   "metadata": {},
   "outputs": [],
   "source": [
    "merged_df.to_csv(\"merged_kmer_motif_counts_raw_expression.csv\", index=False)"
   ]
  }
 ],
 "metadata": {
  "kernelspec": {
   "display_name": "pytorch_env",
   "language": "python",
   "name": "python3"
  },
  "language_info": {
   "codemirror_mode": {
    "name": "ipython",
    "version": 3
   },
   "file_extension": ".py",
   "mimetype": "text/x-python",
   "name": "python",
   "nbconvert_exporter": "python",
   "pygments_lexer": "ipython3",
   "version": "3.10.16"
  }
 },
 "nbformat": 4,
 "nbformat_minor": 5
}
